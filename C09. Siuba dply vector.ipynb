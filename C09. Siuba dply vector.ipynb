{
 "cells": [
  {
   "cell_type": "markdown",
   "id": "dc86a190",
   "metadata": {},
   "source": [
    "<img src=\"logo.png\">"
   ]
  },
  {
   "cell_type": "markdown",
   "id": "594f314f",
   "metadata": {},
   "source": [
    "# siuba.dply.vector\n",
    "\n",
    "``siuba.dply.vector`` se trata de una familia de funciones auxiliares que complementan a los verbos de siuba que hemos estudiado. Se trata de funciones que se aplican a series, y por lo tanto a columnas de dataframes. En https://siuba.org/api/dply.vector puedes ver la documentación completa."
   ]
  },
  {
   "cell_type": "code",
   "execution_count": null,
   "id": "fcfed4f7",
   "metadata": {},
   "outputs": [],
   "source": [
    "import numpy as np\n",
    "import pandas as pd\n",
    "from siuba import *\n",
    "from siuba.dply.vector import *"
   ]
  },
  {
   "cell_type": "markdown",
   "id": "dbc90672",
   "metadata": {},
   "source": [
    "Tomemos el siguiente dataframe ventas de nuestro repositorio:"
   ]
  },
  {
   "cell_type": "code",
   "execution_count": null,
   "id": "eb156fb0",
   "metadata": {},
   "outputs": [],
   "source": [
    "ventas = pd.read_csv(\"C:\\\\Users\\\\Usuario\\\\Documents\\\\scidata\\\\24_cdd_py\\\\practicas\\\\ventas\\\\ventas.csv\",\n",
    "                    encoding=\"utf8\")\n",
    "ventas"
   ]
  },
  {
   "cell_type": "code",
   "execution_count": null,
   "id": "fbcccc45",
   "metadata": {},
   "outputs": [],
   "source": [
    "pd.set_option('display.max_rows', None)\n",
    "ventas"
   ]
  },
  {
   "cell_type": "code",
   "execution_count": null,
   "id": "a611affd",
   "metadata": {},
   "outputs": [],
   "source": [
    "#`between`: Seleccionar filas donde ventas están entre 200 y 230\n",
    "\n",
    "ventas >> filter(_.ventas.between(200,230))"
   ]
  },
  {
   "cell_type": "code",
   "execution_count": null,
   "id": "1a2f474b",
   "metadata": {},
   "outputs": [],
   "source": [
    "#`cumall`: Indicar si todas las ventas hasta la fila actual son mayores a 150\n",
    "ventas >> mutate(salida = cumall(_.ventas>150))"
   ]
  },
  {
   "cell_type": "code",
   "execution_count": null,
   "id": "637e233e",
   "metadata": {},
   "outputs": [],
   "source": [
    "#`cumany`: Indicar si alguna venta hasta la fila actual es mayor a 205\n",
    "ventas >> mutate(salida = cumany(_.ventas>230))"
   ]
  },
  {
   "cell_type": "code",
   "execution_count": null,
   "id": "a8c2b658",
   "metadata": {},
   "outputs": [],
   "source": [
    "## Calcular las ventas acumuladas \n",
    "ventas >> mutate(ventas_acumuladas =  np.nancumsum(_.ventas))"
   ]
  },
  {
   "cell_type": "code",
   "execution_count": null,
   "id": "4a52c780",
   "metadata": {},
   "outputs": [],
   "source": [
    "## Calcular las ventas acumuladas por cada región mensualmente\n",
    "(\n",
    "ventas >> group_by(_.region,_.mes) >> \n",
    "    summarize(total = _.ventas.sum()) >>\n",
    "    group_by(_.region) >>\n",
    "    mutate(suma_acum = np.nancumsum(_.total)) \n",
    ")    "
   ]
  },
  {
   "cell_type": "code",
   "execution_count": null,
   "id": "a5eeff18",
   "metadata": {},
   "outputs": [],
   "source": [
    "# `dense_rank`: Calcular el rango denso de ventas\n",
    "ventas >> mutate(resultado = dense_rank(_.ventas)) "
   ]
  },
  {
   "cell_type": "code",
   "execution_count": null,
   "id": "96f89cc6",
   "metadata": {},
   "outputs": [],
   "source": [
    "# `first`: Obtener el primer valor de ventas de cada región\n",
    "\n",
    "ventas >> group_by(_.region) >> summarize(resultado = first(_.ventas))"
   ]
  },
  {
   "cell_type": "code",
   "execution_count": null,
   "id": "4df30cf4",
   "metadata": {},
   "outputs": [],
   "source": [
    "# `last`: Obtener el último valor de ventas\n",
    "\n",
    "ventas >> group_by(_.region) >> summarize(resultado = last(_.ventas))"
   ]
  },
  {
   "cell_type": "code",
   "execution_count": null,
   "id": "a94aef0f",
   "metadata": {},
   "outputs": [],
   "source": [
    "# `lag`: Obtener la venta del período anterior\n",
    "ventas >> mutate(lag_venta = _.ventas - lag(_.ventas))"
   ]
  },
  {
   "cell_type": "code",
   "execution_count": null,
   "id": "0ee2a103",
   "metadata": {},
   "outputs": [],
   "source": [
    "(ventas >> \n",
    "    group_by(_.region,_.mes) >> \n",
    "    summarize(ventas_tot = _.ventas.sum()) >> \n",
    "    mutate(futuro = lag(_.ventas_tot),\n",
    "           dif_futuro=_.ventas_tot-_.futuro)\n",
    ")"
   ]
  },
  {
   "cell_type": "code",
   "execution_count": null,
   "id": "9ae988c7",
   "metadata": {},
   "outputs": [],
   "source": [
    "# `lead`: Obtener la venta del período siguiente\n",
    "\n",
    "ventas >> mutate(lead_venta = _.ventas - lead(_.ventas))"
   ]
  },
  {
   "cell_type": "code",
   "execution_count": null,
   "id": "c439e6cf",
   "metadata": {},
   "outputs": [],
   "source": [
    "(ventas >> \n",
    "    group_by(_.region,_.mes) >> \n",
    "    summarize(ventas_tot = _.ventas.sum()) >> \n",
    "    mutate(futuro = lead(_.ventas_tot),\n",
    "           dif=_.ventas_tot-_.futuro)\n",
    ")"
   ]
  },
  {
   "cell_type": "code",
   "execution_count": null,
   "id": "022232a4",
   "metadata": {},
   "outputs": [],
   "source": [
    "# `min_rank`: Calcular el rango mínimo de ventas\n",
    "ventas >> mutate(min_rank_venta = min_rank(_.ventas))"
   ]
  },
  {
   "cell_type": "code",
   "execution_count": null,
   "id": "6c34a80e",
   "metadata": {},
   "outputs": [],
   "source": [
    "# `n`: Obtener el número total de filas\n",
    "ventas >> group_by(_.region) >> summarize(total_filas = n(_))"
   ]
  },
  {
   "cell_type": "code",
   "execution_count": null,
   "id": "bec62300",
   "metadata": {},
   "outputs": [],
   "source": [
    "# `n_distinct`: Obtener el número de valores distintos en `producto`\n",
    "#ventas >> summarize(num_distinct_productos = n_distinct(_.producto))\n",
    "ventas >> n_distinct(_.producto)\n",
    "\n"
   ]
  },
  {
   "cell_type": "code",
   "execution_count": null,
   "id": "c3ce5a2c",
   "metadata": {},
   "outputs": [],
   "source": [
    "# `na_if`: Reemplazar el valor 200 en `ventas` con NaN\n",
    "ventas >> mutate(ventas_na_if = na_if(_.ventas, 205))"
   ]
  },
  {
   "cell_type": "code",
   "execution_count": null,
   "id": "83bdb96b",
   "metadata": {},
   "outputs": [],
   "source": [
    "# `percent_rank`: Calcular el percentil de ventas\n",
    "ventas  >> mutate(percent_rank_ventas = 100*percent_rank(_.ventas))"
   ]
  },
  {
   "cell_type": "code",
   "execution_count": null,
   "id": "4a6dfcec",
   "metadata": {},
   "outputs": [],
   "source": [
    "np.percentile(ventas >> filter(-_.ventas.isna()) >> select(_.ventas),96.923077)"
   ]
  },
  {
   "cell_type": "code",
   "execution_count": null,
   "id": "e5529312",
   "metadata": {},
   "outputs": [],
   "source": [
    "# `row_number`: Asignar el número de fila a cada venta\n",
    "ventas >> group_by(_.region) >> mutate(row_number_venta = row_number(_))"
   ]
  }
 ],
 "metadata": {
  "kernelspec": {
   "display_name": "Python 3 (ipykernel)",
   "language": "python",
   "name": "python3"
  },
  "language_info": {
   "codemirror_mode": {
    "name": "ipython",
    "version": 3
   },
   "file_extension": ".py",
   "mimetype": "text/x-python",
   "name": "python",
   "nbconvert_exporter": "python",
   "pygments_lexer": "ipython3",
   "version": "3.11.4"
  }
 },
 "nbformat": 4,
 "nbformat_minor": 5
}
