{
 "cells": [
  {
   "cell_type": "markdown",
   "id": "9b3c8602",
   "metadata": {},
   "source": [
    "![imagenes](logo.png)"
   ]
  },
  {
   "cell_type": "code",
   "execution_count": null,
   "id": "e8d52cfc",
   "metadata": {},
   "outputs": [],
   "source": [
    "import pandas as pd\n",
    "import numpy as np\n",
    "from siuba import *\n",
    "from siuba.dply.vector import *\n",
    "from plotnine import *\n",
    "import os\n",
    "\n",
    "pd.set_option('display.max_columns', None)\n",
    "pd.set_option('display.max_rows', None)"
   ]
  },
  {
   "cell_type": "code",
   "execution_count": null,
   "id": "459eea15",
   "metadata": {},
   "outputs": [],
   "source": [
    "vuelos = pd.read_csv(\"C:\\\\Users\\\\Usuario\\\\Documents\\\\scidata\\\\24_cdd_py\\\\practicas\\\\aerolineas\\\\flights.csv\")\n",
    "clima = pd.read_csv(\"C:\\\\Users\\\\Usuario\\\\Documents\\\\scidata\\\\24_cdd_py\\\\practicas\\\\aerolineas\\\\weather.csv\")\n",
    "gapminder = pd.read_csv(\"C:\\\\Users\\\\Usuario\\\\Documents\\\\scidata\\\\24_cdd_py\\\\practicas\\\\gapminder\\\\gapminder.csv\")\n",
    "\n",
    "covid_20 = pd.read_csv(\"C:\\\\Users\\\\Usuario\\\\Documents\\\\scidata\\\\24_cdd_py\\\\practicas\\\\covid_19\\\\covid_2020.csv\")\n",
    "covid_21 = pd.read_csv(\"C:\\\\Users\\\\Usuario\\\\Documents\\\\scidata\\\\24_cdd_py\\\\practicas\\\\covid_19\\\\covid_2021.csv\")\n",
    "covid_22 = pd.read_csv(\"C:\\\\Users\\\\Usuario\\\\Documents\\\\scidata\\\\24_cdd_py\\\\practicas\\\\covid_19\\\\covid_2022.csv\")\n",
    "covid_23 = pd.read_csv(\"C:\\\\Users\\\\Usuario\\\\Documents\\\\scidata\\\\24_cdd_py\\\\practicas\\\\covid_19\\\\covid_2023.csv\")"
   ]
  },
  {
   "cell_type": "markdown",
   "id": "3bda03c2",
   "metadata": {},
   "source": [
    "## Ejercicio 1.\n",
    "\n",
    "Usando los datos de vuelos (flights), agrupa por mes y calcula el número total de vuelos retrasados. Crea un gráfico de línea que muestre la tendencia de los vuelos retrasados por mes."
   ]
  },
  {
   "cell_type": "code",
   "execution_count": null,
   "id": "df87e865",
   "metadata": {},
   "outputs": [],
   "source": [
    "vuelos >> head()"
   ]
  },
  {
   "cell_type": "code",
   "execution_count": null,
   "id": "2b0f902f",
   "metadata": {},
   "outputs": [],
   "source": [
    "(\n",
    "vuelos >> filter(_.dep_delay > 0) >> group_by(_.month) >> summarize(tot_retrasos = n(_)) >>\n",
    "    ggplot() + geom_line(mapping=aes(x=\"month\",y=\"tot_retrasos\")) +\n",
    "    scale_x_continuous(breaks=range(1, 13))\n",
    ")"
   ]
  },
  {
   "cell_type": "code",
   "execution_count": null,
   "id": "4fc3728d",
   "metadata": {},
   "outputs": [],
   "source": [
    "(\n",
    "vuelos >> filter(_.dep_delay > 0) >> group_by(_.month,_.origin) >> summarize(tot_retrasos = n(_)) >>\n",
    "    ggplot() + geom_line(mapping=aes(x=\"month\",y=\"tot_retrasos\",color=\"origin\")) +\n",
    "    scale_x_continuous(breaks=range(1, 13))\n",
    ")"
   ]
  },
  {
   "cell_type": "markdown",
   "id": "78c75ce8",
   "metadata": {},
   "source": [
    "## Ejercicio 2\n",
    "\n",
    "Filtra los datos para el aeropuerto de JFK y crea un gráfico de línea que muestre la temperatura máxima diaria (temp) a lo largo del tiempo."
   ]
  },
  {
   "cell_type": "code",
   "execution_count": null,
   "id": "4614160a",
   "metadata": {},
   "outputs": [],
   "source": [
    "maximas_temperaturas = (\n",
    "clima >> filter(_.origin==\"EWR\") >> \n",
    "    group_by(_.month,_.day) >> \n",
    "    summarize(max_temp = _.temp.max()) >>\n",
    "    mutate(year = 2013))\n",
    "\n",
    "maximas_temperaturas[\"fecha\"] = pd.to_datetime(maximas_temperaturas[[\"year\",\"month\",\"day\"]])\n",
    "\n",
    "(\n",
    "maximas_temperaturas >> ggplot() + \n",
    "    geom_line(mapping=aes(x=\"fecha\",y=\"max_temp\",color=\"factor(month)\")) +\n",
    "    theme(axis_text_x=element_text(angle=90, hjust=0))\n",
    ")"
   ]
  },
  {
   "cell_type": "markdown",
   "id": "ef2efc67",
   "metadata": {},
   "source": [
    "## Ejercicio 3\n",
    "\n",
    "Usa los datos de Gapminder para comparar la evolución de la población de México y Estados Unidos a lo largo del tiempo."
   ]
  },
  {
   "cell_type": "code",
   "execution_count": null,
   "id": "f0cfb379",
   "metadata": {},
   "outputs": [],
   "source": [
    "gapminder >> head()"
   ]
  },
  {
   "cell_type": "code",
   "execution_count": null,
   "id": "fff1d48a",
   "metadata": {},
   "outputs": [],
   "source": [
    "(\n",
    "gapminder >> select(_.year,_.country,_.population) >> filter(_.country.isin([\"United States\",\"Mexico\"])) >> \n",
    "    ggplot() + \n",
    "    geom_line(mapping=aes(x=\"year\",y=\"population\",color=\"country\")) +\n",
    "    geom_point(mapping=aes(x=\"year\",y=\"population\",color=\"country\"))\n",
    ")"
   ]
  },
  {
   "cell_type": "code",
   "execution_count": null,
   "id": "8266cb0f",
   "metadata": {},
   "outputs": [],
   "source": [
    "gapminder >> select(_.country) >> distinct()"
   ]
  },
  {
   "cell_type": "markdown",
   "id": "5e317bb5",
   "metadata": {},
   "source": [
    "## Ejercicio 4\n",
    "\n",
    "Usa los datos de Gapminder para comparar la evolución del PIB per cápita de Japón y China."
   ]
  },
  {
   "cell_type": "code",
   "execution_count": null,
   "id": "f4369264",
   "metadata": {},
   "outputs": [],
   "source": [
    "gapminder >> head()"
   ]
  },
  {
   "cell_type": "code",
   "execution_count": null,
   "id": "ac2d6285",
   "metadata": {},
   "outputs": [],
   "source": [
    "(\n",
    "gapminder >> select(_.year,_.country,_.gdpPercap) >> filter(_.country.isin([\"Japan\",\"China\"])) >> \n",
    "    ggplot() + \n",
    "    geom_line(mapping=aes(x=\"year\",y=\"gdpPercap\",color=\"country\")) +\n",
    "    geom_point(mapping=aes(x=\"year\",y=\"gdpPercap\",color=\"country\"))\n",
    ")"
   ]
  },
  {
   "cell_type": "code",
   "execution_count": null,
   "id": "74587027",
   "metadata": {},
   "outputs": [],
   "source": [
    "americas_gdp = (gapminder >> \n",
    "    filter(_.continent == \"Americas\") >> \n",
    "    group_by(_.year) >> \n",
    "    summarize(gdpPercap = _.gdpPercap.mean()) >>\n",
    "    mutate(country=\"Americas\")\n",
    ")\n",
    "\n",
    "americas_gdp"
   ]
  },
  {
   "cell_type": "code",
   "execution_count": null,
   "id": "af902f48",
   "metadata": {},
   "outputs": [],
   "source": [
    "chi_jap_gdp = gapminder >> select(_.year,_.gdpPercap,_.country,) >> filter(_.country.isin([\"Japan\",\"China\"]))\n",
    "\n",
    "gdp = pd.concat([chi_jap_gdp,americas_gdp])\n",
    "\n",
    "(\n",
    "ggplot(data=gdp,mapping=aes(x=\"year\",y=\"gdpPercap\",color=\"country\")) +\n",
    "    geom_point() +\n",
    "    geom_line() \n",
    ")"
   ]
  },
  {
   "cell_type": "markdown",
   "id": "eaf28dbf",
   "metadata": {},
   "source": [
    "## Ejercicio 5\n",
    "\n",
    "Usa los datos de vuelos (flights) para agrupar por mes y calcular el número de vuelos cancelados (is.na(dep_time)). Crea un gráfico de línea mostrando la tendencia de vuelos cancelados por mes."
   ]
  },
  {
   "cell_type": "markdown",
   "id": "4a870a7a",
   "metadata": {},
   "source": [
    "## Ejercicio 6\n",
    "\n",
    "Usa los datos meteorológicos para calcular la temperatura promedio por mes y año en el aeropuerto de LGA y crea un gráfico de línea."
   ]
  },
  {
   "cell_type": "markdown",
   "id": "25a2bbf6",
   "metadata": {},
   "source": [
    "## Ejercicio 7\n",
    "\n",
    "Presenta las gráficas de contagios diarios de covid; defunciones diarias de covid y defunciones acumuladas diarias de covid.\n",
    "\n",
    "**Extra**\n",
    "\n",
    "- Ilumina por año"
   ]
  },
  {
   "cell_type": "code",
   "execution_count": null,
   "id": "37559edb",
   "metadata": {},
   "outputs": [],
   "source": [
    "covid = pd.concat([covid_20,covid_21,covid_22,covid_23])"
   ]
  },
  {
   "cell_type": "code",
   "execution_count": null,
   "id": "036839c5",
   "metadata": {},
   "outputs": [],
   "source": [
    "covid = covid >> mutate(año = _.FECHA_SINTOMAS.str.slice(0,4),\n",
    "                mes = _.FECHA_SINTOMAS.str.slice(5,7),\n",
    "                dia = _.FECHA_SINTOMAS.str.slice(8,10))"
   ]
  },
  {
   "cell_type": "code",
   "execution_count": null,
   "id": "5ca828d9",
   "metadata": {},
   "outputs": [],
   "source": [
    "(covid >> arrange(_.año,_.mes,_.dia)).tail()"
   ]
  },
  {
   "cell_type": "code",
   "execution_count": null,
   "id": "9af7335c",
   "metadata": {},
   "outputs": [],
   "source": [
    "covid_confirmados = covid >> filter(_.CLASIFICACION_FINAL.isin([1,2,3]))"
   ]
  },
  {
   "cell_type": "code",
   "execution_count": null,
   "id": "f087a7d1",
   "metadata": {},
   "outputs": [],
   "source": [
    "## convirtamos a fecha\n",
    "covid_confirmados = covid_confirmados >> mutate(fecha_sintomas = pd.to_datetime(covid_confirmados[\"FECHA_SINTOMAS\"],dayfirst=True))"
   ]
  },
  {
   "cell_type": "code",
   "execution_count": null,
   "id": "32d981ee",
   "metadata": {},
   "outputs": [],
   "source": [
    "conteo_confirmados = (covid_confirmados >> \n",
    "                          group_by(_.fecha_sintomas) >> \n",
    "                          summarize(total = n(_)) >>\n",
    "                          mutate(año = _.fecha_sintomas.astype(str).str.slice(0,4))\n",
    "                     )\n",
    "conteo_confirmados\n"
   ]
  },
  {
   "cell_type": "code",
   "execution_count": null,
   "id": "69f36b22",
   "metadata": {},
   "outputs": [],
   "source": [
    "(\n",
    "ggplot(data=conteo_confirmados) + \n",
    "    geom_line(mapping=aes(x=\"fecha_sintomas\",y=\"total\",color=\"año\")) +\n",
    "    theme(axis_text_x=element_text(angle=90, hjust=0))\n",
    ")"
   ]
  },
  {
   "cell_type": "code",
   "execution_count": null,
   "id": "2de71fcc",
   "metadata": {},
   "outputs": [],
   "source": [
    "covid_confirmados >> head()"
   ]
  },
  {
   "cell_type": "code",
   "execution_count": null,
   "id": "1cbac4e5",
   "metadata": {},
   "outputs": [],
   "source": [
    "covid_def = covid_confirmados >> filter(_.FECHA_DEF != \"9999-99-99\")\n",
    "covid_def = covid_def >> mutate(fecha_def = pd.to_datetime(covid_def[\"FECHA_DEF\"],dayfirst=True))\n",
    "    \n"
   ]
  },
  {
   "cell_type": "code",
   "execution_count": null,
   "id": "98dc3e46",
   "metadata": {},
   "outputs": [],
   "source": [
    "(covid_def >> group_by(_.fecha_def) >> summarize(total = n(_)) >> mutate(año = _.fecha_def.astype(str).str.slice(0,4)) >>\n",
    "    ggplot() +\n",
    "    geom_line(mapping=aes(x=\"fecha_def\",y=\"total\",color=\"año\"))  +\n",
    "    theme(axis_text_x=element_text(angle=90, hjust=0))\n",
    ")"
   ]
  },
  {
   "cell_type": "code",
   "execution_count": null,
   "id": "58954b5c",
   "metadata": {},
   "outputs": [],
   "source": [
    "(covid_def >> group_by(_.fecha_def) >> \n",
    "    summarize(total = n(_)) >> \n",
    "    mutate(total_acum = np.nancumsum(_.total),\n",
    "           año = _.fecha_def.astype(str).str.slice(0,4)) >>\n",
    "    ggplot() +\n",
    "    geom_line(mapping=aes(x=\"fecha_def\",y=\"total_acum\",color=\"año\"))  +\n",
    "    theme(axis_text_x=element_text(angle=90, hjust=0))\n",
    ")"
   ]
  }
 ],
 "metadata": {
  "kernelspec": {
   "display_name": "Python 3 (ipykernel)",
   "language": "python",
   "name": "python3"
  },
  "language_info": {
   "codemirror_mode": {
    "name": "ipython",
    "version": 3
   },
   "file_extension": ".py",
   "mimetype": "text/x-python",
   "name": "python",
   "nbconvert_exporter": "python",
   "pygments_lexer": "ipython3",
   "version": "3.11.4"
  }
 },
 "nbformat": 4,
 "nbformat_minor": 5
}
