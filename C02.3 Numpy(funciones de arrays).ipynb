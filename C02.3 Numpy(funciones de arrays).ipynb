{
 "cells": [
  {
   "cell_type": "markdown",
   "metadata": {},
   "source": [
    "<img src=\"logo.png\">"
   ]
  },
  {
   "cell_type": "markdown",
   "metadata": {},
   "source": [
    "# Funciones de arrays"
   ]
  },
  {
   "cell_type": "code",
   "execution_count": null,
   "metadata": {
    "scrolled": true
   },
   "outputs": [],
   "source": [
    "# !pip install numpy\n",
    "import numpy as np"
   ]
  },
  {
   "cell_type": "markdown",
   "metadata": {},
   "source": [
    "Debido a las características de los arreglos de *Numpy* para hacer \"broadcasting\", la biblioteca cuenta con una amplia gama de funciones se transmiten a los elementos seleccionados de un arreglo."
   ]
  },
  {
   "cell_type": "markdown",
   "metadata": {},
   "source": [
    "## Funciones vectorizadas\n",
    "\n",
    "Una función vectorizada es una función para la cual el argumento es una columna de una matriz y devuelve el resultado de aplicar la misma operación a cada uno de los elementos de la columna."
   ]
  },
  {
   "cell_type": "markdown",
   "metadata": {},
   "source": [
    "## Funciones de valor."
   ]
  },
  {
   "cell_type": "markdown",
   "metadata": {},
   "source": [
    "* ```np.abs()```\n",
    "* ```np.around()```\n",
    "* ```np.ceil()```\n",
    "* ```np.exp()```\n",
    "* ```np.exp2()```\n",
    "* ```np.fabs()```\n",
    "* ```np.fix()```\n",
    "* ```np.floor()```\n",
    "* ```np.log()```\n",
    "* ```np.log10()```\n",
    "* ```np.log1p()```\n",
    "* ```np.log2()```\n",
    "* ```np.logaddexp()```\n",
    "* ```np.logaddexp2()```\n",
    "* ```np.round()```"
   ]
  },
  {
   "cell_type": "markdown",
   "metadata": {},
   "source": [
    "## Funciones estadísticas.\n",
    "\n",
    "* ```np.amax()```\n",
    "* ```np amin()```\n",
    "* ```np.argmax()```\n",
    "* ```np.argmin()```\n",
    "* ```np.average()```\n",
    "* ```np.correlate()```\n",
    "* ```np.corrcoef()```\n",
    "* ```np.count_nonzero()```\n",
    "* ```np.cov()```\n",
    "* ```np.cumprod()```\n",
    "* ```np.cumsum()```\n",
    "* ```np.histogram()```\n",
    "* ```np.histogram2d()```\n",
    "* ```np.histogram_bin_edges()```\n",
    "* ```np.histogramdd()```\n",
    "* ```np.max()```\n",
    "* ```np.mean()```\n",
    "* ```np.median()```\n",
    "* ```np.min()```\n",
    "* ```np.nanargmax()```\n",
    "* ```np.nanargmin()```\n",
    "* ```np.nancumprod()```\n",
    "* ```np.nancumsum()```\n",
    "* ```np.nanmax()```\n",
    "* ```np.nanmean()```\n",
    "* ```np.nanmedian()```\n",
    "* ```np.nanmin()```\n",
    "* ```np.nanpercentile()```\n",
    "* ```np.nanquantile()```\n",
    "* ```np.nanstd()```\n",
    "* ```np.nansum()```\n",
    "* ```np.nanvar()```\n",
    "* ```np.percentile()```\n",
    "* ```np.quantile()```\n",
    "* ```np.std()```\n",
    "* ```np.var()```"
   ]
  },
  {
   "cell_type": "markdown",
   "metadata": {},
   "source": [
    "## Ejemplos\n",
    "\n",
    "\n",
    "**En una dimensión**\n",
    "\n",
    "```python\n",
    "arr = np.array([1, 2, 3, 4, 5])\n",
    "```"
   ]
  },
  {
   "cell_type": "code",
   "execution_count": null,
   "metadata": {},
   "outputs": [],
   "source": [
    "arr = np.array([1, 2, 3, 4, 5])"
   ]
  },
  {
   "cell_type": "markdown",
   "metadata": {},
   "source": [
    "1. ``np.mean`` - Calcula la media aritmética\n",
    "\n",
    "```python\n",
    "mean = np.mean(arr)  # 3.0\n",
    "```"
   ]
  },
  {
   "cell_type": "code",
   "execution_count": null,
   "metadata": {},
   "outputs": [],
   "source": [
    "mean = np.mean(arr)\n",
    "mean"
   ]
  },
  {
   "cell_type": "markdown",
   "metadata": {},
   "source": [
    "2. ``np.median`` - Calcula la mediana\n",
    "\n",
    "```python\n",
    "median = np.median(arr)  # 3.0\n"
   ]
  },
  {
   "cell_type": "code",
   "execution_count": null,
   "metadata": {},
   "outputs": [],
   "source": [
    "median = np.median(arr)\n",
    "median\n"
   ]
  },
  {
   "cell_type": "markdown",
   "metadata": {},
   "source": [
    "3. ``np.std`` - Calcula la desviación estándar.\n",
    "\n",
    "```python\n",
    "std_dev = np.std(arr)  # 1.4142135623730951\n"
   ]
  },
  {
   "cell_type": "code",
   "execution_count": null,
   "metadata": {},
   "outputs": [],
   "source": [
    "std_dev = np.std(arr)\n",
    "std_dev"
   ]
  },
  {
   "cell_type": "markdown",
   "metadata": {},
   "source": [
    "4. ``np.var`` - Calcula la varianza.\n",
    "\n",
    "```python\n",
    "variance = np.var(arr)  # 2.0\n"
   ]
  },
  {
   "cell_type": "code",
   "execution_count": null,
   "metadata": {},
   "outputs": [],
   "source": [
    "variance = np.var(arr)\n",
    "variance"
   ]
  },
  {
   "cell_type": "markdown",
   "metadata": {},
   "source": [
    "5. ``np.percentile`` - Calcula el percentil especificado.\n",
    "\n",
    "```python\n",
    "percentile_25 = np.percentile(arr, 25)  # 2.0\n",
    "percentile_75 = np.percentile(arr, 75)  # 4.0\n"
   ]
  },
  {
   "cell_type": "code",
   "execution_count": null,
   "metadata": {},
   "outputs": [],
   "source": [
    "percentile_25 = np.percentile(arr, 25)\n",
    "percentile_25"
   ]
  },
  {
   "cell_type": "code",
   "execution_count": null,
   "metadata": {},
   "outputs": [],
   "source": [
    "percentile_75 = np.percentile(arr, 75)\n",
    "percentile_75"
   ]
  },
  {
   "cell_type": "markdown",
   "metadata": {},
   "source": [
    "6. ``np.amax`` - Devuelve el valor máximo de un arreglo.\n",
    "\n",
    "```python\n",
    "max_value = np.amax(arr)  # 5\n"
   ]
  },
  {
   "cell_type": "code",
   "execution_count": null,
   "metadata": {},
   "outputs": [],
   "source": [
    "max_value = np.amax(arr)\n",
    "max_value"
   ]
  },
  {
   "cell_type": "markdown",
   "metadata": {},
   "source": [
    "7. ``np.amin`` - Devuelve el valor mínimo de un arreglo.\n",
    "\n",
    "```python\n",
    "min_value = np.amin(arr)  # 1\n"
   ]
  },
  {
   "cell_type": "code",
   "execution_count": null,
   "metadata": {},
   "outputs": [],
   "source": [
    "min_value = np.amin(arr)\n",
    "min_value"
   ]
  },
  {
   "cell_type": "markdown",
   "metadata": {},
   "source": [
    "8. ``np.ptp`` - Calcula el rango (diferencia entre el valor máximo y mínimo).\n",
    "\n",
    "\n",
    "```python\n",
    "range_value = np.ptp(arr)  # 4\n"
   ]
  },
  {
   "cell_type": "code",
   "execution_count": null,
   "metadata": {},
   "outputs": [],
   "source": [
    "range_value = np.ptp(arr) \n",
    "range_value"
   ]
  },
  {
   "cell_type": "markdown",
   "metadata": {},
   "source": [
    "9. ``np.cumsum`` - Calcula la suma acumulada\n",
    "\n",
    "```python\n",
    "cumsum = np.cumsum(arr)\n",
    "```"
   ]
  },
  {
   "cell_type": "code",
   "execution_count": null,
   "metadata": {},
   "outputs": [],
   "source": [
    "cumsum = np.cumsum(arr)\n",
    "cumsum"
   ]
  },
  {
   "cell_type": "markdown",
   "metadata": {},
   "source": [
    "**Ejemplos de dos dimensiones**\n",
    "\n",
    "```python\n",
    "arr = np.array([[1, 2, 3], [4, 5, 6]])\n",
    "```"
   ]
  },
  {
   "cell_type": "code",
   "execution_count": null,
   "metadata": {},
   "outputs": [],
   "source": [
    "arr = np.array([[1, 2, 3], [4, 5, 6]])\n",
    "arr"
   ]
  },
  {
   "cell_type": "markdown",
   "metadata": {},
   "source": [
    "10. ``np.mean`` - Calcula la media aritmética a lo largo de un eje.\n",
    "\n",
    "```python\n",
    "mean_axis0 = np.mean(arr, axis=0)  # array([2.5, 3.5, 4.5])\n",
    "mean_axis1 = np.mean(arr, axis=1)  # array([2., 5.])\n"
   ]
  },
  {
   "cell_type": "code",
   "execution_count": null,
   "metadata": {},
   "outputs": [],
   "source": [
    "mean_axis0 = np.mean(arr, axis=0)\n",
    "mean_axis0"
   ]
  },
  {
   "cell_type": "code",
   "execution_count": null,
   "metadata": {},
   "outputs": [],
   "source": [
    "mean_axis1 = np.mean(arr, axis=1)\n",
    "mean_axis1"
   ]
  },
  {
   "cell_type": "markdown",
   "metadata": {},
   "source": [
    "11. ``np.median`` - Calcula la mediana a lo largo de un eje.\n",
    "```python\n",
    "median_axis0 = np.median(arr, axis=0)  # array([2.5, 3.5, 4.5])\n",
    "median_axis1 = np.median(arr, axis=1)  # array([2., 5.])\n"
   ]
  },
  {
   "cell_type": "code",
   "execution_count": null,
   "metadata": {},
   "outputs": [],
   "source": [
    "median_axis0 = np.median(arr, axis=0)\n",
    "median_axis0"
   ]
  },
  {
   "cell_type": "code",
   "execution_count": null,
   "metadata": {},
   "outputs": [],
   "source": [
    "median_axis1 = np.median(arr, axis=1) \n",
    "median_axis1"
   ]
  },
  {
   "cell_type": "markdown",
   "metadata": {},
   "source": [
    "12. ``np.std`` - Calcula la desviación estándar a lo largo de un eje.\n",
    "\n",
    "```python\n",
    "std_axis0 = np.std(arr, axis=0)  # array([1.5, 1.5, 1.5])\n",
    "std_axis1 = np.std(arr, axis=1)  # array([0.81649658, 0.81649658])\n"
   ]
  },
  {
   "cell_type": "code",
   "execution_count": null,
   "metadata": {},
   "outputs": [],
   "source": [
    "std_axis0 = np.std(arr, axis=0)\n",
    "std_axis0"
   ]
  },
  {
   "cell_type": "code",
   "execution_count": null,
   "metadata": {},
   "outputs": [],
   "source": [
    "std_axis1 = np.std(arr, axis=1)\n",
    "std_axis1"
   ]
  },
  {
   "cell_type": "markdown",
   "metadata": {},
   "source": [
    "13. ``np.var`` - Calcula la varianza a lo largo de un eje.\n",
    "\n",
    "```python\n",
    "var_axis0 = np.var(arr, axis=0)  # array([2.25, 2.25, 2.25])\n",
    "var_axis1 = np.var(arr, axis=1)  # array([0.66666667, 0.66666667])\n"
   ]
  },
  {
   "cell_type": "code",
   "execution_count": null,
   "metadata": {},
   "outputs": [],
   "source": [
    "var_axis0 = np.var(arr, axis=0)\n",
    "var_axis0"
   ]
  },
  {
   "cell_type": "code",
   "execution_count": null,
   "metadata": {},
   "outputs": [],
   "source": [
    "var_axis1 = np.var(arr, axis=1)\n",
    "var_axis1"
   ]
  },
  {
   "cell_type": "markdown",
   "metadata": {},
   "source": [
    "14. ``np.amax`` - Devuelve el valor máximo a lo largo de un eje.\n",
    "\n",
    "```python\n",
    "max_axis0 = np.amax(arr, axis=0)  # array([4, 5, 6])\n",
    "max_axis1 = np.amax(arr, axis=1)  # array([3, 6])\n",
    "\n"
   ]
  },
  {
   "cell_type": "code",
   "execution_count": null,
   "metadata": {},
   "outputs": [],
   "source": [
    "max_axis0 = np.amax(arr, axis=0)\n",
    "max_axis0"
   ]
  },
  {
   "cell_type": "code",
   "execution_count": null,
   "metadata": {},
   "outputs": [],
   "source": [
    "max_axis1 = np.amax(arr, axis=1)\n",
    "max_axis1"
   ]
  },
  {
   "cell_type": "markdown",
   "metadata": {},
   "source": [
    "15. ``np.amin`` - Devuelve el valor mínimo a lo largo de un eje.\n",
    "\n",
    "```python\n",
    "min_axis0 = np.amin(arr, axis=0)  # array([1, 2, 3])\n",
    "min_axis1 = np.amin(arr, axis=1)  # array([1, 4])\n"
   ]
  },
  {
   "cell_type": "code",
   "execution_count": null,
   "metadata": {},
   "outputs": [],
   "source": [
    "min_axis0 = np.amin(arr, axis=0)\n",
    "min_axis0"
   ]
  },
  {
   "cell_type": "code",
   "execution_count": null,
   "metadata": {},
   "outputs": [],
   "source": [
    "min_axis1 = np.amin(arr, axis=1)\n",
    "min_axis1"
   ]
  },
  {
   "cell_type": "markdown",
   "metadata": {},
   "source": [
    "16. ``np.ptp`` - Calcula el rango a lo largo de un eje.\n",
    "```python\n",
    "ptp_axis0 = np.ptp(arr, axis=0)  # array([3, 3, 3])\n",
    "ptp_axis1 = np.ptp(arr, axis=1)  # array([2, 2])\n"
   ]
  },
  {
   "cell_type": "code",
   "execution_count": null,
   "metadata": {},
   "outputs": [],
   "source": [
    "ptp_axis0 = np.ptp(arr, axis=0)\n",
    "ptp_axis0"
   ]
  },
  {
   "cell_type": "code",
   "execution_count": null,
   "metadata": {},
   "outputs": [],
   "source": [
    "ptp_axis1 = np.ptp(arr, axis=1)\n",
    "ptp_axis1"
   ]
  },
  {
   "cell_type": "markdown",
   "metadata": {},
   "source": [
    "16. ``np.percentile`` - Calcula el percentil especificado a lo largo de un eje.\n",
    "\n",
    "```python\n",
    "percentile_25_axis0 = np.percentile(arr, 25, axis=0)  # array([2., 3., 4.])\n",
    "percentile_75_axis1 = np.percentile(arr, 75, axis=1)  # array([2.5, 5.5])\n"
   ]
  },
  {
   "cell_type": "code",
   "execution_count": null,
   "metadata": {},
   "outputs": [],
   "source": [
    "percentile_25_axis0 = np.percentile(arr, 25, axis=0)\n",
    "percentile_25_axis0"
   ]
  },
  {
   "cell_type": "code",
   "execution_count": null,
   "metadata": {},
   "outputs": [],
   "source": [
    "percentile_75_axis1 = np.percentile(arr, 75, axis=1)\n",
    "percentile_75_axis1"
   ]
  },
  {
   "cell_type": "markdown",
   "metadata": {},
   "source": [
    "17. np.cumsum - Calcula la suma acumulada a lo largo de un eje\n",
    "\n",
    "```python\n",
    "cumsum_axis0 = np.cumsum(arr, axis=0)\n",
    "cumsum_axis0 = np.cumsum(arr, axis=1)\n",
    "```"
   ]
  },
  {
   "cell_type": "code",
   "execution_count": null,
   "metadata": {},
   "outputs": [],
   "source": [
    "cumsum_axis0 = np.cumsum(arr, axis=0)\n",
    "cumsum_axis0"
   ]
  },
  {
   "cell_type": "code",
   "execution_count": null,
   "metadata": {},
   "outputs": [],
   "source": [
    "cumsum_axis1 = np.cumsum(arr, axis=1)\n",
    "cumsum_axis1"
   ]
  },
  {
   "cell_type": "markdown",
   "metadata": {},
   "source": [
    "**Valores faltantes**"
   ]
  },
  {
   "cell_type": "code",
   "execution_count": null,
   "metadata": {},
   "outputs": [],
   "source": [
    "arr1d_na = np.array([1, 2, np.nan, 4, 5])\n",
    "arr1d_na"
   ]
  },
  {
   "cell_type": "code",
   "execution_count": null,
   "metadata": {},
   "outputs": [],
   "source": [
    "# Calcular la media\n",
    "\n",
    "mean_1d = np.nanmean(arr1d_na)\n",
    "mean_1d"
   ]
  },
  {
   "cell_type": "code",
   "execution_count": null,
   "metadata": {},
   "outputs": [],
   "source": [
    "# Calcular la desviación estándar ignorando NaN\n",
    "std_1d = np.nanstd(arr1d_na)\n",
    "std_1d"
   ]
  },
  {
   "cell_type": "code",
   "execution_count": null,
   "metadata": {},
   "outputs": [],
   "source": [
    "arr2d_na = np.array([[1, np.nan, 3],\n",
    "                  [4, 5, np.nan],\n",
    "                  [7, 8, 9]])\n",
    "arr2d_na"
   ]
  },
  {
   "cell_type": "code",
   "execution_count": null,
   "metadata": {},
   "outputs": [],
   "source": [
    "# Calcular la mediana ignorando NaN a lo largo del eje 0 (columnas)\n",
    "median_axis0 = np.nanmedian(arr2d_na, axis=0)\n",
    "median_axis0"
   ]
  },
  {
   "cell_type": "code",
   "execution_count": null,
   "metadata": {},
   "outputs": [],
   "source": [
    "# Calcular la varianza ignorando NaN a lo largo del eje 1 (filas)\n",
    "var_axis1 = np.nanvar(arr2d_na, axis=1)\n",
    "var_axis1"
   ]
  }
 ],
 "metadata": {
  "kernelspec": {
   "display_name": "Python 3 (ipykernel)",
   "language": "python",
   "name": "python3"
  },
  "language_info": {
   "codemirror_mode": {
    "name": "ipython",
    "version": 3
   },
   "file_extension": ".py",
   "mimetype": "text/x-python",
   "name": "python",
   "nbconvert_exporter": "python",
   "pygments_lexer": "ipython3",
   "version": "3.11.4"
  }
 },
 "nbformat": 4,
 "nbformat_minor": 2
}
