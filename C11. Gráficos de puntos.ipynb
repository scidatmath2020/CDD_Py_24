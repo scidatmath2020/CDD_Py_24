{
 "cells": [
  {
   "cell_type": "markdown",
   "metadata": {},
   "source": [
    "![imagenes](logo.png)"
   ]
  },
  {
   "cell_type": "code",
   "execution_count": 1,
   "metadata": {},
   "outputs": [],
   "source": [
    "import pandas as  pd\n",
    "import numpy as np\n",
    "from siuba import *\n",
    "from plotnine import *\n",
    "import os"
   ]
  },
  {
   "cell_type": "markdown",
   "metadata": {},
   "source": [
    "# Gráficos de puntos\n",
    "\n",
    "Los gráficos más simples son los diagramas de puntos, también llamados diagramas bivariados o de dispersión. Te permiten visualizar la relación entre dos variables numéricas. Si bien es posible que ya estés familiarizado con los diagramas de puntos, veámoslos a través de la lente de la gramática de gráficos. "
   ]
  },
  {
   "cell_type": "markdown",
   "metadata": {},
   "source": [
    "### Ejercicios sobre automóviles\n",
    "\n",
    "Para las siguientes preguntas, utilizaremos la tabla **mpg.csv** de nuestro repositorio.\n",
    "\n",
    "\n",
    "* **Ejercicio 1** Relación entre la Potencia del Motor y el Consumo de Combustible. **¿Cómo se relaciona la potencia del motor (`displ`) con el consumo de combustible en ciudad (`cty`) y carretera (`hwy`)?** ¿Qué diferencias observas entre el consumo en ciudad y en carretera respecto a la potencia del motor?"
   ]
  },
  {
   "cell_type": "markdown",
   "metadata": {},
   "source": [
    "* **Ejercicio 2** Análisis de Eficiencia de Combustible por Tipo de Vehículo. **¿Qué tipo de vehículo (`class`) tiende a ser más eficiente en términos de consumo de combustible (`hwy`) en autopista?** ¿Hay alguna clase de vehículo que destaque por su eficiencia?"
   ]
  },
  {
   "cell_type": "markdown",
   "metadata": {},
   "source": [
    "* **Ejercicio 3** Comparación de Consumo de Combustible entre Fabricantes. **¿Existen diferencias significativas en el consumo de combustible en carretera (`hwy`) entre diferentes fabricantes de automóviles (`manufacturer`)?** ¿Qué fabricantes producen los vehículos más eficientes?"
   ]
  },
  {
   "cell_type": "markdown",
   "metadata": {},
   "source": [
    "* **Ejercicio 4** Impacto del Año de Fabricación en la Eficiencia de Combustible. **¿Los automóviles más recientes (`year`) tienden a ser más eficientes en el consumo de combustible (`hwy`)?** ¿Qué tendencias observas con el tiempo?"
   ]
  },
  {
   "cell_type": "markdown",
   "metadata": {},
   "source": [
    "* **Ejercicio 5** Eficiencia de Combustible según el Tipo de Transmisión. ¿Cómo afecta el tipo de transmisión (`trans`) al consumo de combustible en carretera (`hwy`)? ¿Las transmisiones manuales o automáticas tienden a ser más eficientes?"
   ]
  },
  {
   "cell_type": "markdown",
   "metadata": {},
   "source": [
    "* **Ejercicio 6** Relación entre el Peso del Vehículo y su Consumo de Combustible. **¿Cómo se relaciona el peso del vehículo (`displ`) con su consumo de combustible en ciudad (`cty`)?** Usa un gráfico de dispersión para analizar esta relación. ¿Qué patrones observas? ¿El peso influye significativamente en el consumo en ciudad?"
   ]
  },
  {
   "cell_type": "markdown",
   "metadata": {},
   "source": [
    "* **Ejercicio 7** Análisis de Eficiencia de Combustible por Tipo de Tracción. **¿Existen diferencias en el consumo de combustible en carretera (`hwy`) entre vehículos con tracción delantera, trasera, y en las cuatro ruedas (`drv`)?** ¿Qué deducciones puedes hacer sobre la influencia del tipo de tracción en la eficiencia de combustible?\n"
   ]
  },
  {
   "cell_type": "markdown",
   "metadata": {},
   "source": [
    "### Ejercicios sobre vuelos\n",
    "\n",
    "Para las siguientes preguntas, utilizaremos la tabla **fligths.csv** de nuestro repositorio.\n",
    "\n",
    "* **Pregunta 1** ¿Existe una relación directa entre la distancia de un vuelo y su tiempo en el aire?"
   ]
  },
  {
   "cell_type": "markdown",
   "metadata": {},
   "source": [
    "* **Pregunta 2** ¿Qué transportista parece ser más eficiente en términos de tiempo de vuelo en relación con la distancia recorrida?\n"
   ]
  },
  {
   "cell_type": "markdown",
   "metadata": {},
   "source": [
    "* **Pregunta 3** ¿Cuál es la relación entre el tiempo en el aire y el retraso de llegada de los vuelos? ¿Los vuelos más largos tienden a tener mayores retrasos a la llegada? Utiliza un gráfico de dispersión para analizar la relación entre `air_time` y `arr_delay`. ¿Qué patrones observas? ¿Los vuelos con tiempos en el aire más largos tienen más probabilidades de llegar tarde, o no parece haber una correlación clara?"
   ]
  },
  {
   "cell_type": "markdown",
   "metadata": {},
   "source": [
    "* **Pregunta 4** ¿Cómo se comportan los retrasos en la llegada dependiendo del aeropuerto de origen? ¿Qué aeropuertos de origen tienden a tener los mayores retrasos en la llegada? ¿Existen aeropuertos desde los cuales los vuelos tienden a llegar más tarde que desde otros? ¿Qué factores podrían explicar estas diferencias?\n"
   ]
  },
  {
   "cell_type": "markdown",
   "metadata": {},
   "source": [
    "* **Pregunta 5** ¿Cómo varían los retrasos de llegada según el mes del año? **¿Existen patrones estacionales en los retrasos de llegada de los vuelos a lo largo del año?** ¿Qué meses muestran mayores o menores retrasos?"
   ]
  },
  {
   "cell_type": "markdown",
   "metadata": {},
   "source": [
    "* **Pregunta 6** ¿Cómo influye la distancia del vuelo en los retrasos de salida? **¿Hay una relación entre la distancia del vuelo y los retrasos en la salida?** Crea un gráfico de dispersión para explorar esta relación. ¿Los vuelos más largos tienden a tener mayores retrasos en la salida? ¿Qué patrones se observan?"
   ]
  },
  {
   "cell_type": "markdown",
   "metadata": {},
   "source": [
    "* **Pregunta 7** ¿Qué impacto tiene el tipo de transportista en los retrasos de llegada? **¿Existen diferencias significativas en los retrasos en la llegada entre diferentes transportistas?** ¿Qué transportistas tienen los mayores o menores retrasos en la llegada?\n"
   ]
  }
 ],
 "metadata": {
  "kernelspec": {
   "display_name": "Python 3 (ipykernel)",
   "language": "python",
   "name": "python3"
  },
  "language_info": {
   "codemirror_mode": {
    "name": "ipython",
    "version": 3
   },
   "file_extension": ".py",
   "mimetype": "text/x-python",
   "name": "python",
   "nbconvert_exporter": "python",
   "pygments_lexer": "ipython3",
   "version": "3.11.4"
  }
 },
 "nbformat": 4,
 "nbformat_minor": 4
}
