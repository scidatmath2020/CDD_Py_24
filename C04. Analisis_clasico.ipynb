{
 "cells": [
  {
   "cell_type": "markdown",
   "id": "13d1aa79",
   "metadata": {},
   "source": [
    "<img src=\"logo.png\">"
   ]
  },
  {
   "cell_type": "markdown",
   "id": "1eb85294",
   "metadata": {},
   "source": [
    "En este capítulo pondremos en práctica todo lo aprendido hasta el momento. Utilizaremos la tabla *starwars.csv* que está en nuestro repositorio dentro de la carpeta data: https://github.com/scidatmath2020/CDD_Py_24/blob/main/data/starwars.csv"
   ]
  },
  {
   "cell_type": "code",
   "execution_count": 1,
   "id": "c2494d42",
   "metadata": {},
   "outputs": [],
   "source": [
    "import pandas as pd\n",
    "import numpy as np\n",
    "\n",
    "#ruta =\n",
    "#starwars = pd.read_csv(ruta+\"starwars.csv\")"
   ]
  },
  {
   "cell_type": "markdown",
   "id": "7a58a80d",
   "metadata": {},
   "source": [
    "- Revisar encabezado\n",
    "\n",
    "- Revisar columnas\n",
    "\n",
    "- Revisar dimensiones\n",
    "\n",
    "- Eliminar primera columna\n",
    "\n",
    "## Ejercicio 1: Seleccionar y Filtrar\n",
    "\n",
    "- Selecciona las columnas name, height, y gender.\n",
    "\n",
    "- Filtra los personajes que tienen una altura mayor a 180 cm\n",
    "\n",
    "- Filtra los personajes que tienen una masa mayor a 50 cm\n",
    "\n",
    "- Filtra los personajes que tienen una sí tienen estatura conocida\n",
    "\n",
    "- Filtra los personajes que tienen una no tienen masa conocida\n",
    "\n",
    "- Filtra los personajes que son de género masculino\n",
    "\n",
    "- Filtra los personajes que son de género femenino pero no son humanos\n",
    "\n",
    "- Filtra los personajes que son del planeta Tatooine o Naboo\n",
    "\n",
    "- Filtra los personajes que son del planeta Tatooine o Naboo y cuyo peso sea mayor que el peso promedio de su propio planeta\n",
    "\n",
    "## Ejercicio 2: Mutar y Transformar\n",
    "\n",
    "- Crea una nueva columna llamada imc que calcule la relación entre mass y height de cada personaje.\n",
    "\n",
    "- Convierte la columna height de centímetros a metros.\n",
    "\n",
    "## Ejercicio 3: Agrupar y Resumir\n",
    "\n",
    "- Agrupa el dataset por la columna gender y homeworld y calcula el promedio de la height para cada grupo.\n",
    "\n",
    "- Agrupa por gender y cuenta cuántas especies distintas (species) hay en cada grupo.\n",
    "\n",
    "- Resumir el DataFrame para mostrar el número total de personajes y la masa promedio (mass) para cada especie (species).\n",
    "\n",
    "## Ejercicio 4: Ordenar y Seleccionar\n",
    "\n",
    "- Ordena el DataFrame por la columna mass en orden descendente.\n",
    "\n",
    "- Selecciona los cinco personajes con la mayor masa.\n",
    "\n",
    "- Selecciona los cinco personajes con la menor masa.\n",
    "\n",
    "## Ejercicio 5: Manipulación de Strings\n",
    "\n",
    "- Filtra los personajes cuyo color de cabello (hair_color) contenga la palabra \"auburn\".\n",
    "\n",
    "- Convierte todos los nombres (name) a mayúsculas.\n",
    "\n",
    "## Ejercicio 6: Manejo de Valores Nulos\n",
    "\n",
    "- Cuenta cuántos valores nulos hay en cada columna.\n",
    "\n",
    "- Elimina las filas donde la columna mass tenga valores nulos.\n",
    "\n",
    "## Ejercicio 7: Combinación de Operaciones\n",
    "\n",
    "- Filtra los personajes con height mayor a al promedio de las estaturas y la masa es conocida; agrupa por species, y calcula el promedio de mass para cada especie. Finalmente, ordena los resultados por mass en orden ascendente.\n"
   ]
  }
 ],
 "metadata": {
  "kernelspec": {
   "display_name": "Python 3 (ipykernel)",
   "language": "python",
   "name": "python3"
  },
  "language_info": {
   "codemirror_mode": {
    "name": "ipython",
    "version": 3
   },
   "file_extension": ".py",
   "mimetype": "text/x-python",
   "name": "python",
   "nbconvert_exporter": "python",
   "pygments_lexer": "ipython3",
   "version": "3.11.4"
  }
 },
 "nbformat": 4,
 "nbformat_minor": 5
}
