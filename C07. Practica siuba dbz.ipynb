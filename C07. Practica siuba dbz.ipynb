{
 "cells": [
  {
   "cell_type": "markdown",
   "id": "84447d5a",
   "metadata": {},
   "source": [
    "<img src=\"logo.png\">"
   ]
  },
  {
   "cell_type": "markdown",
   "id": "4f52dc17",
   "metadata": {},
   "source": [
    "En nuestro repositorio encontrarás la tabla **dbz.csv** (https://github.com/scidatmath2020/CDD_Py_24/blob/main/data/dbz.csv)\n",
    "\n",
    "Resuelve:"
   ]
  },
  {
   "cell_type": "markdown",
   "id": "68486765",
   "metadata": {},
   "source": [
    "1. Quieres identificar a los personajes que podrían ser considerados \"guerreros de élite\". Solo aquellos con un poder superior a 4000 podrían estar a la altura de las batallas más difíciles."
   ]
  },
  {
   "cell_type": "markdown",
   "id": "0f315578",
   "metadata": {},
   "source": [
    "2. Estás preparando un informe para la Patrulla Roja sobre los guerreros más poderosos, y solo necesitas los datos esenciales: nombre, poder y origen.\n"
   ]
  },
  {
   "cell_type": "markdown",
   "id": "7cf5f4b2",
   "metadata": {},
   "source": [
    "\n",
    "3. Necesitas calcular la eficiencia de poder en función de la estatura para determinar qué personajes tienen el mejor rendimiento en combate en proporción a su tamaño. Para ello, te conviene conocer la \"fuerza relativa\", que es el poder/estatura\n",
    "\n"
   ]
  },
  {
   "cell_type": "markdown",
   "id": "fce82ad1",
   "metadata": {},
   "source": [
    "4. Quieres establecer un ranking de los personajes más poderosos de Dragon Ball Z para decidir quién enfrentará a los enemigos más fuertes en la próxima batalla.\n",
    "\n"
   ]
  },
  {
   "cell_type": "markdown",
   "id": "b301e880",
   "metadata": {},
   "source": [
    "5. Estás analizando cuántos guerreros vienen de diferentes planetas para ver cuál es la mayor fuente de poder en el universo."
   ]
  },
  {
   "cell_type": "markdown",
   "id": "42abd388",
   "metadata": {},
   "source": [
    "6. Necesitas evaluar el poder medio de los guerreros de cada planeta para decidir si merece la pena invadir un determinado planeta en busca de más aliados poderosos."
   ]
  },
  {
   "cell_type": "markdown",
   "id": "4e5b0e41",
   "metadata": {},
   "source": [
    "7. Estás preparando un equipo de defensa exclusivamente con guerreros de la Tierra para repeler una invasión alienígena."
   ]
  },
  {
   "cell_type": "markdown",
   "id": "4ecaa259",
   "metadata": {},
   "source": [
    "8. Necesitas identificar a todos los Saiyajins (personajes de \"Planeta Vegeta\") ya que tienen la capacidad de aumentar exponencialmente su poder durante las batallas. Por lo tanto, requerirás de una columna que indique si el personaje es o no un saijajin."
   ]
  },
  {
   "cell_type": "markdown",
   "id": "02fb1f49",
   "metadata": {},
   "source": [
    "9. Estás buscando personajes femeninos poderosos para un equipo de combate diverso que pueda aprovechar diferentes habilidades y estrategias."
   ]
  },
  {
   "cell_type": "markdown",
   "id": "e4ff9fe8",
   "metadata": {},
   "source": [
    "10. Quieres evaluar el estado físico de los personajes para asegurarte de que están en la mejor condición posible para enfrentar combates prolongados. Te servirá calcular el índice de masa corporal (recuerda que se calcula como 10000*peso/estatura^2)"
   ]
  },
  {
   "cell_type": "markdown",
   "id": "6a39ec3a",
   "metadata": {},
   "source": [
    "11. Estás interesado en analizar la distribución de personajes masculinos y femeninos en las filas de los guerreros para promover la inclusión en tu equipo. "
   ]
  },
  {
   "cell_type": "markdown",
   "id": "990e66be",
   "metadata": {},
   "source": [
    "12. Necesitas identificar a los personajes más altos, ya que estos podrían tener ventajas estratégicas en combate cuerpo a cuerpo debido a su mayor alcance."
   ]
  },
  {
   "cell_type": "markdown",
   "id": "c50ec81e",
   "metadata": {},
   "source": [
    "13. Clasificas a los personajes en \"Alto\" o \"Bajo\" nivel de poder para decidir rápidamente quién será parte de misiones de alto riesgo y quién deberá entrenar más."
   ]
  },
  {
   "cell_type": "markdown",
   "id": "18808b7d",
   "metadata": {},
   "source": [
    "14. Necesitas saber quién es el guerrero más fuerte para liderar el equipo en la próxima gran batalla contra un enemigo formidable."
   ]
  },
  {
   "cell_type": "markdown",
   "id": "b9a44d95",
   "metadata": {},
   "source": [
    "15. Estás creando un informe detallado que muestra el promedio de poder por origen y sexo, para identificar si hay algún grupo que sobresalga en poder dentro de los personajes de Dragon Ball Z."
   ]
  }
 ],
 "metadata": {
  "kernelspec": {
   "display_name": "Python 3 (ipykernel)",
   "language": "python",
   "name": "python3"
  },
  "language_info": {
   "codemirror_mode": {
    "name": "ipython",
    "version": 3
   },
   "file_extension": ".py",
   "mimetype": "text/x-python",
   "name": "python",
   "nbconvert_exporter": "python",
   "pygments_lexer": "ipython3",
   "version": "3.11.4"
  }
 },
 "nbformat": 4,
 "nbformat_minor": 5
}
