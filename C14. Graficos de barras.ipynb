{
 "cells": [
  {
   "cell_type": "markdown",
   "metadata": {},
   "source": [
    "<img src=\"logo.png\">"
   ]
  },
  {
   "cell_type": "markdown",
   "metadata": {},
   "source": [
    "# Gráficos de barras\n",
    "\n",
    "La tabla ``msleep.csv``, que puedes descargar de nuestro repositorio, contiene información sobre 83 mamíferos diferentes. La información tiene su nombre común, su género, su tipo de dieta, su orden taxológico, su estado de conservación, así como las horas de sueño al día que duermen, las horas que corresponden al sueño profundo (REM), cuánto dura su [ciclo de sueño](https://www.nhlbi.nih.gov/es/salud/sueno/estadios-del-sueno#:~:text=Al%20dormir%2C%20se%20atraviesa%20un,entre%20un%20ciclo%20y%20otro.), cuántas horas se mantiene despierto al día, su masa cerebral (en Kg) y su masa corporal (también en kg).\n",
    "\n",
    "Resuelve los siguientes problemas:"
   ]
  },
  {
   "cell_type": "code",
   "execution_count": null,
   "metadata": {},
   "outputs": [],
   "source": [
    "# Cargado de bibliotecas y lectura del archivo\n",
    "\n",
    "import pandas as pd\n",
    "import numpy as np\n",
    "from siuba import *\n",
    "from siuba.dply.vector import *\n",
    "from plotnine import *\n",
    "import os \n",
    "\n",
    "os.chdir(\"C:\\\\Users\\\\Usuario\\\\Documents\\\\scidata\\\\24_cdd_py\\\\practicas\\\\mamiferos\")\n",
    "sp = pd.read_csv('msleep.csv')"
   ]
  },
  {
   "cell_type": "code",
   "execution_count": null,
   "metadata": {},
   "outputs": [],
   "source": [
    "# Cambia el nombre de cada columna a su traducción en español.\n",
    "\n",
    "sp = (sp >> rename(nombre = \"name\",\n",
    "                   género = \"genus\",\n",
    "                   dieta = \"vore\",\n",
    "                   orden = \"order\",\n",
    "                   conservacion = \"conservation\",\n",
    "                   horas_sueño = \"sleep_total\",\n",
    "                   horas_rem = \"sleep_rem\",\n",
    "                   ciclo_sueño = \"sleep_cycle\",\n",
    "                   horas_despierto = \"awake\",\n",
    "                   masa_cerebral = \"brainwt\",\n",
    "                   masa_corporal = \"bodywt\")\n",
    "     )"
   ]
  },
  {
   "cell_type": "code",
   "execution_count": null,
   "metadata": {},
   "outputs": [],
   "source": [
    "# Ordena la tabla alaféticamente por dieta, orden y nombre, y muestra el género de los tres primeros renglones. \n"
   ]
  },
  {
   "cell_type": "code",
   "execution_count": null,
   "metadata": {},
   "outputs": [],
   "source": [
    "# ¿Cuál es la dieta más común en la tabla? ¿Cuántos omnívoros hay?\n"
   ]
  },
  {
   "cell_type": "code",
   "execution_count": null,
   "metadata": {},
   "outputs": [],
   "source": [
    "# ¿Cuál es el orden más común en la tabla?  ¿Hay más carnívora que primates?\n"
   ]
  },
  {
   "cell_type": "code",
   "execution_count": null,
   "metadata": {},
   "outputs": [],
   "source": [
    "# ¿Cuáles son los primates que más y menos duermen?\n"
   ]
  },
  {
   "cell_type": "code",
   "execution_count": null,
   "metadata": {},
   "outputs": [],
   "source": [
    "# ¿Qué resultado esperarías obtener si sumas las horas de sueño con las horas despierto en cada renglón?\n",
    "# Calcula una nueva columna llamada \"total_despierto_dormido\" que sea esta suma.\n",
    "\n"
   ]
  },
  {
   "cell_type": "code",
   "execution_count": null,
   "metadata": {},
   "outputs": [],
   "source": [
    "# Añade el porcentaje de masa que representa el cerebro respecto del cuerpo de cada animal y responde:\n"
   ]
  },
  {
   "cell_type": "code",
   "execution_count": null,
   "metadata": {},
   "outputs": [],
   "source": [
    "#### ¿Qué animales tienen el mayor y menor porcentaje de masa cerebral respecto a la corporal?\n"
   ]
  },
  {
   "cell_type": "code",
   "execution_count": null,
   "metadata": {},
   "outputs": [],
   "source": [
    "#### ¿Cuántos animales tienen dicho porcentaje mayor al del humano?\n"
   ]
  },
  {
   "cell_type": "code",
   "execution_count": null,
   "metadata": {},
   "outputs": [],
   "source": [
    "# Añade una columna que indique si el animal duerme 8 o menos horas."
   ]
  },
  {
   "cell_type": "code",
   "execution_count": null,
   "metadata": {},
   "outputs": [],
   "source": [
    "# Crea un gráfico de barras donde se indique cuántos animales de cada dieta tienen mayor relación cerebro/cuerpo respecto \n",
    "# de los humanos, separando aquellos que duermen menos de 8 horas de los que duermen mas de 8 horas."
   ]
  }
 ],
 "metadata": {
  "kernelspec": {
   "display_name": "Python 3 (ipykernel)",
   "language": "python",
   "name": "python3"
  },
  "language_info": {
   "codemirror_mode": {
    "name": "ipython",
    "version": 3
   },
   "file_extension": ".py",
   "mimetype": "text/x-python",
   "name": "python",
   "nbconvert_exporter": "python",
   "pygments_lexer": "ipython3",
   "version": "3.11.4"
  }
 },
 "nbformat": 4,
 "nbformat_minor": 4
}
