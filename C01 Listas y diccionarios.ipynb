{
 "cells": [
  {
   "cell_type": "markdown",
   "metadata": {},
   "source": [
    "<img src=\"logo.png\">"
   ]
  },
  {
   "cell_type": "markdown",
   "metadata": {},
   "source": [
    "# Listas y diccionarios\n",
    "\n",
    "En este primer capítulo vamos a aprender dos tipos de objetos fundamentales en Python: las **listas** y los **diccionarios**."
   ]
  },
  {
   "cell_type": "markdown",
   "metadata": {},
   "source": [
    "## Listas\n",
    "\n",
    "Probablemente, los objetos más importantes en todo Python son las listas. Estas se tratan simplemente de colecciones ordenadas. Para crear un objeto de tipo lista de manera *explícita* simplemente utilizamos ``nombre = [objeto1, objeto2, etc]``. Pero una \n",
    "\n",
    "**Ejemplo 1**\n",
    "\n",
    "\n",
    "```python\n",
    "lista_vacia = []\n",
    "lista_de_enteros = [1, 4, -1, 3]\n",
    "lista_no_homogenea = [1, \"hola a todos\", True]\n",
    "lista_de_listas = [1, [\"hola\", 3], False, 2, True]\n",
    "```\n",
    "\n",
    "Las listas tienen longitud (cantidad de elementos que contiene una lista). Para calcular la longitud de una lista utilizamos la función `len(lista)`:\n",
    "\n",
    "**Ejemplo 2**\n",
    "\n",
    "```python\n",
    "len(lista_vacia)\n",
    "len(lista_de_enteros)\n",
    "len(lista_no_homogenea)\n",
    "len(lista_de_listas)\n",
    "```\n",
    "\n",
    "Además, en caso de tener únicamente elementos numéricos, podemos calcular la suma de sus elementos con la función ``sum(lista)``:\n",
    "\n",
    "**Ejemplo 2**\n",
    "\n",
    "```python\n",
    "sum(lista_de_enteros)\n",
    "```"
   ]
  },
  {
   "cell_type": "code",
   "execution_count": 1,
   "metadata": {},
   "outputs": [
    {
     "data": {
      "text/plain": [
       "['matemáticas', 'física', 'actuaría', 'computación']"
      ]
     },
     "execution_count": 1,
     "metadata": {},
     "output_type": "execute_result"
    }
   ],
   "source": [
    "carreras = [\"matemáticas\",\"física\",\"actuaría\",\"computación\"]\n",
    "carreras"
   ]
  },
  {
   "cell_type": "code",
   "execution_count": 2,
   "metadata": {},
   "outputs": [
    {
     "data": {
      "text/plain": [
       "['Hola', 3, False]"
      ]
     },
     "execution_count": 2,
     "metadata": {},
     "output_type": "execute_result"
    }
   ],
   "source": [
    "#Lista con varios tipos de elementos\n",
    "lista1 = [\"Hola\",1+2,1<0]\n",
    "lista1\n"
   ]
  },
  {
   "cell_type": "markdown",
   "metadata": {},
   "source": [
    "### Indexado de listas"
   ]
  },
  {
   "cell_type": "markdown",
   "metadata": {},
   "source": [
    "Para retornar el elemento de una lista, utilizamos ``nombre_lista[índice]`` donde *índice* es el número de elemento que queremos. Es importante notar que los índices en Python comienzan en 0."
   ]
  },
  {
   "cell_type": "code",
   "execution_count": 3,
   "metadata": {},
   "outputs": [
    {
     "data": {
      "text/plain": [
       "'matemáticas'"
      ]
     },
     "execution_count": 3,
     "metadata": {},
     "output_type": "execute_result"
    }
   ],
   "source": [
    "carreras[0]"
   ]
  },
  {
   "cell_type": "markdown",
   "metadata": {},
   "source": [
    "Podemos retornar un rango de elementos de las listas con la sintaxis ``nombre_lista[inicio:final]`` **pero Python siempre resta un 1 a *final*** "
   ]
  },
  {
   "cell_type": "code",
   "execution_count": 4,
   "metadata": {},
   "outputs": [
    {
     "name": "stdout",
     "output_type": "stream",
     "text": [
      "['matemáticas', 'física']\n",
      "['matemáticas', 'física']\n",
      "['física']\n",
      "['actuaría', 'computación']\n"
     ]
    }
   ],
   "source": [
    "print(carreras[0:2])\n",
    "print(carreras[:2])\n",
    "print(carreras[1:2])\n",
    "print(carreras[2:])"
   ]
  },
  {
   "cell_type": "markdown",
   "metadata": {},
   "source": [
    "### Operaciones internas de listas"
   ]
  },
  {
   "cell_type": "markdown",
   "metadata": {},
   "source": [
    "Las listas son objetos *mutables* en Python. Esto significa, en particular, que podemos añadirles elementos. Lo anterior lo hacemos con el ** muy útil** método `append`."
   ]
  },
  {
   "cell_type": "code",
   "execution_count": 6,
   "metadata": {},
   "outputs": [],
   "source": [
    "carreras.append(\"matemáticas aplicadas\")"
   ]
  },
  {
   "cell_type": "code",
   "execution_count": 7,
   "metadata": {},
   "outputs": [
    {
     "data": {
      "text/plain": [
       "['matemáticas', 'física', 'actuaría', 'computación', 'matemáticas aplicadas']"
      ]
     },
     "execution_count": 7,
     "metadata": {},
     "output_type": "execute_result"
    }
   ],
   "source": [
    "carreras"
   ]
  },
  {
   "cell_type": "markdown",
   "metadata": {},
   "source": [
    "También podemos crear una nueva lista a partir de una existente *concatenando* esta última consigo misma tantas veces como queramos mediante multiplicaciones."
   ]
  },
  {
   "cell_type": "code",
   "execution_count": 8,
   "metadata": {},
   "outputs": [
    {
     "data": {
      "text/plain": [
       "['matemáticas',\n",
       " 'física',\n",
       " 'actuaría',\n",
       " 'computación',\n",
       " 'matemáticas aplicadas',\n",
       " 'matemáticas',\n",
       " 'física',\n",
       " 'actuaría',\n",
       " 'computación',\n",
       " 'matemáticas aplicadas']"
      ]
     },
     "execution_count": 8,
     "metadata": {},
     "output_type": "execute_result"
    }
   ],
   "source": [
    "carreras_doble = 2 * carreras\n",
    "carreras_doble"
   ]
  },
  {
   "cell_type": "markdown",
   "metadata": {},
   "source": [
    "E incluso, concatenar listas diferentes en una sola usando el operador `+`"
   ]
  },
  {
   "cell_type": "code",
   "execution_count": 10,
   "metadata": {},
   "outputs": [
    {
     "data": {
      "text/plain": [
       "['matemáticas',\n",
       " 'física',\n",
       " 'actuaría',\n",
       " 'computación',\n",
       " 'matemáticas aplicadas',\n",
       " 1,\n",
       " 2,\n",
       " 3]"
      ]
     },
     "execution_count": 10,
     "metadata": {},
     "output_type": "execute_result"
    }
   ],
   "source": [
    "carreras + [1,2,3]"
   ]
  },
  {
   "cell_type": "markdown",
   "metadata": {},
   "source": [
    "Por otra parte, mediante la indexación podemos también cambiar los elementos de una lista"
   ]
  },
  {
   "cell_type": "code",
   "execution_count": 11,
   "metadata": {},
   "outputs": [
    {
     "data": {
      "text/plain": [
       "['matemáticas',\n",
       " 'física',\n",
       " 'actuaría',\n",
       " 'computación',\n",
       " 'matemáticas industriales']"
      ]
     },
     "execution_count": 11,
     "metadata": {},
     "output_type": "execute_result"
    }
   ],
   "source": [
    "carreras[4] = \"matemáticas industriales\"\n",
    "carreras"
   ]
  },
  {
   "cell_type": "markdown",
   "metadata": {},
   "source": [
    "Aprovechand la mutabilidad, podemos cambiar un rango de elementos de la lista e incluso añanadir mas."
   ]
  },
  {
   "cell_type": "code",
   "execution_count": 12,
   "metadata": {},
   "outputs": [],
   "source": [
    "carreras[2:] = [\"Actuaría\",\"Computación\", \"Matemáticas industriales\", \"Matemáticas Aplicadas\"]"
   ]
  },
  {
   "cell_type": "code",
   "execution_count": 13,
   "metadata": {},
   "outputs": [
    {
     "data": {
      "text/plain": [
       "['matemáticas',\n",
       " 'física',\n",
       " 'Actuaría',\n",
       " 'Computación',\n",
       " 'Matemáticas industriales',\n",
       " 'Matemáticas Aplicadas']"
      ]
     },
     "execution_count": 13,
     "metadata": {},
     "output_type": "execute_result"
    }
   ],
   "source": [
    "carreras"
   ]
  },
  {
   "cell_type": "markdown",
   "metadata": {},
   "source": [
    "Para ver si algo pertenece a una lista utilizamos el operador ``in``"
   ]
  },
  {
   "cell_type": "code",
   "execution_count": 14,
   "metadata": {},
   "outputs": [
    {
     "data": {
      "text/plain": [
       "False"
      ]
     },
     "execution_count": 14,
     "metadata": {},
     "output_type": "execute_result"
    }
   ],
   "source": [
    "\"biología\" in carreras"
   ]
  },
  {
   "cell_type": "code",
   "execution_count": 15,
   "metadata": {},
   "outputs": [
    {
     "data": {
      "text/plain": [
       "False"
      ]
     },
     "execution_count": 15,
     "metadata": {},
     "output_type": "execute_result"
    }
   ],
   "source": [
    "\"Física\" in carreras"
   ]
  },
  {
   "cell_type": "code",
   "execution_count": 16,
   "metadata": {},
   "outputs": [
    {
     "data": {
      "text/plain": [
       "True"
      ]
     },
     "execution_count": 16,
     "metadata": {},
     "output_type": "execute_result"
    }
   ],
   "source": [
    "\"física\" in carreras"
   ]
  },
  {
   "cell_type": "markdown",
   "metadata": {},
   "source": [
    "Además, para encontrar el lugar donde un elemento se encuentra en una lista usamos el método `index`"
   ]
  },
  {
   "cell_type": "code",
   "execution_count": 17,
   "metadata": {},
   "outputs": [
    {
     "data": {
      "text/plain": [
       "1"
      ]
     },
     "execution_count": 17,
     "metadata": {},
     "output_type": "execute_result"
    }
   ],
   "source": [
    "carreras.index(\"física\")"
   ]
  },
  {
   "cell_type": "markdown",
   "metadata": {},
   "source": [
    "**Observación.** Es importante notar que el método *index* devuelve el índice en que el elemento aparece por primera vez."
   ]
  },
  {
   "cell_type": "code",
   "execution_count": 18,
   "metadata": {},
   "outputs": [
    {
     "data": {
      "text/plain": [
       "1"
      ]
     },
     "execution_count": 18,
     "metadata": {},
     "output_type": "execute_result"
    }
   ],
   "source": [
    "lista = [\"a\",\"b\",\"c\",\"b\",\"a\"]\n",
    "lista.index(\"b\")"
   ]
  },
  {
   "cell_type": "markdown",
   "metadata": {},
   "source": [
    "Para eliminar elementos de una lista lo podemos hacer de dos maneras: dando el índice o el nombre del elemento usando el método *pop*."
   ]
  },
  {
   "cell_type": "code",
   "execution_count": 19,
   "metadata": {},
   "outputs": [
    {
     "data": {
      "text/plain": [
       "['matemáticas',\n",
       " 'física',\n",
       " 'Actuaría',\n",
       " 'Computación',\n",
       " 'Matemáticas industriales',\n",
       " 'Matemáticas Aplicadas']"
      ]
     },
     "execution_count": 19,
     "metadata": {},
     "output_type": "execute_result"
    }
   ],
   "source": [
    "carreras"
   ]
  },
  {
   "cell_type": "code",
   "execution_count": 20,
   "metadata": {},
   "outputs": [
    {
     "data": {
      "text/plain": [
       "['matemáticas', 'física', 'Actuaría', 'Computación', 'Matemáticas Aplicadas']"
      ]
     },
     "execution_count": 20,
     "metadata": {},
     "output_type": "execute_result"
    }
   ],
   "source": [
    "carreras.pop(4)\n",
    "carreras"
   ]
  },
  {
   "cell_type": "code",
   "execution_count": 21,
   "metadata": {},
   "outputs": [
    {
     "data": {
      "text/plain": [
       "['matemáticas', 'Actuaría', 'Computación', 'Matemáticas Aplicadas']"
      ]
     },
     "execution_count": 21,
     "metadata": {},
     "output_type": "execute_result"
    }
   ],
   "source": [
    "carreras.pop(carreras.index(\"física\"))\n",
    "carreras"
   ]
  },
  {
   "cell_type": "markdown",
   "metadata": {},
   "source": [
    "También podemos ordenar los elementos de una lista con la función ``sortede(lista)``"
   ]
  },
  {
   "cell_type": "code",
   "execution_count": 23,
   "metadata": {},
   "outputs": [
    {
     "data": {
      "text/plain": [
       "['Actuaría', 'Computación', 'Matemáticas Aplicadas', 'matemáticas']"
      ]
     },
     "execution_count": 23,
     "metadata": {},
     "output_type": "execute_result"
    }
   ],
   "source": [
    "sorted(carreras)"
   ]
  },
  {
   "cell_type": "markdown",
   "metadata": {},
   "source": [
    "No obstante, esta manera de ordenar elementos **no altera el objeto inicial**:"
   ]
  },
  {
   "cell_type": "code",
   "execution_count": 24,
   "metadata": {},
   "outputs": [
    {
     "data": {
      "text/plain": [
       "['matemáticas', 'Actuaría', 'Computación', 'Matemáticas Aplicadas']"
      ]
     },
     "execution_count": 24,
     "metadata": {},
     "output_type": "execute_result"
    }
   ],
   "source": [
    "carreras"
   ]
  },
  {
   "cell_type": "markdown",
   "metadata": {},
   "source": [
    "Por otra parte, otra forma de ordenar los elementos de una lista es con el método `sort`, pero aquí es **muy importante saber qué este método modifica al objeto**"
   ]
  },
  {
   "cell_type": "code",
   "execution_count": 25,
   "metadata": {},
   "outputs": [],
   "source": [
    "carreras.sort()"
   ]
  },
  {
   "cell_type": "code",
   "execution_count": 26,
   "metadata": {},
   "outputs": [
    {
     "data": {
      "text/plain": [
       "['Actuaría', 'Computación', 'Matemáticas Aplicadas', 'matemáticas']"
      ]
     },
     "execution_count": 26,
     "metadata": {},
     "output_type": "execute_result"
    }
   ],
   "source": [
    "carreras"
   ]
  },
  {
   "cell_type": "markdown",
   "metadata": {},
   "source": [
    "Una función útil para generar listas secuenciales es la función `range(n)`. Por ejemplo `list(range(15))` crea una lista cuyos elementos van de 0 a 14:"
   ]
  },
  {
   "cell_type": "code",
   "execution_count": null,
   "metadata": {},
   "outputs": [],
   "source": [
    "lista2 = list(range(15))\n",
    "lista2"
   ]
  },
  {
   "cell_type": "markdown",
   "metadata": {},
   "source": [
    "Otras funciones que se pueden aplicar a las listas son `min(nombre_lista)` y `max(nombre_lista)`. Mas adelante veremos otras."
   ]
  },
  {
   "cell_type": "markdown",
   "metadata": {},
   "source": [
    "## Diccionarios\n",
    "\n",
    "Otro objeto fundamental en Python son los diccionarios. Estos se tratan de colecciones que asocian *claves* a *valores*: ``mi_diccionario = {clave1:valor1, clave2:valor2, clave3:valor3, etc}`` \n",
    "\n",
    "**Ejemplo 4.**\n",
    "\n",
    "```python\n",
    "diccionario_vacio = {}\n",
    "calificaciones = {\"Joel\":80, \"Tim\":95}\n",
    "```\n",
    "\n",
    "Puedes preguntar un valor a través de su clave:\n",
    "\n",
    "```python\n",
    "calificaciones[\"Joel\"]\n",
    "```\n",
    "\n",
    "En caso de que la clave no exista, se te devolverá un error.\n",
    "\n",
    "Para saber si una clave pertenece a un diccionario utilizamos ``clave in diccionario``\n",
    "\n",
    "```python\n",
    "\"Joel\" in calificaciones\n",
    "\"Katia\" in calificaciones\n",
    "```\n",
    "\n",
    "Para añadir una clave y un valor o modificar un valor en un diccionario simplemente hacemos ``diccionario[clave]=valor``\n",
    "\n",
    "```python\n",
    "calificaciones[\"Katia\"] = 93\n",
    "calificaciones[\"Tim\"] = 100\n",
    "```\n",
    "\n",
    "En el contexto del Análisis de datos, los diccionarios nos sirven principalmente para representar de manera simple una estructura compleja de datos:"
   ]
  },
  {
   "cell_type": "code",
   "execution_count": 27,
   "metadata": {},
   "outputs": [],
   "source": [
    "tweet = {\"user\" : \"joelgrus\", \n",
    "         \"text\" : \"Data Science is Awesome\", \n",
    "         \"retweet_count\" : 100, \n",
    "         \"hashtags\" : [\"#data\", \"#science\", \"#datascience\", \"#awesome\", \"#yolo\"]\n",
    "}\n"
   ]
  },
  {
   "cell_type": "code",
   "execution_count": 28,
   "metadata": {},
   "outputs": [
    {
     "data": {
      "text/plain": [
       "{'user': 'joelgrus',\n",
       " 'text': 'Data Science is Awesome',\n",
       " 'retweet_count': 100,\n",
       " 'hashtags': ['#data', '#science', '#datascience', '#awesome', '#yolo']}"
      ]
     },
     "execution_count": 28,
     "metadata": {},
     "output_type": "execute_result"
    }
   ],
   "source": [
    "tweet"
   ]
  },
  {
   "cell_type": "code",
   "execution_count": 29,
   "metadata": {},
   "outputs": [],
   "source": [
    "boletas = {\"nombre\":[\"Tim\",\"Joel\",\"Katia\"],\n",
    "           \"Sexo\":[\"Masculino\",\"Masculino\",\"Femenino\"],\n",
    "           \"Edad\":[17,15,16],\n",
    "           \"Matemáticas\":[9.3,7.8,9.0],\n",
    "           \"Lengua\":[8.6,8.2,10.0],\n",
    "           \"Computación\":[9.7,6.5,8.3]}"
   ]
  },
  {
   "cell_type": "code",
   "execution_count": 30,
   "metadata": {},
   "outputs": [
    {
     "data": {
      "text/plain": [
       "{'nombre': ['Tim', 'Joel', 'Katia'],\n",
       " 'Sexo': ['Masculino', 'Masculino', 'Femenino'],\n",
       " 'Edad': [17, 15, 16],\n",
       " 'Matemáticas': [9.3, 7.8, 9.0],\n",
       " 'Lengua': [8.6, 8.2, 10.0],\n",
       " 'Computación': [9.7, 6.5, 8.3]}"
      ]
     },
     "execution_count": 30,
     "metadata": {},
     "output_type": "execute_result"
    }
   ],
   "source": [
    "boletas"
   ]
  }
 ],
 "metadata": {
  "kernelspec": {
   "display_name": "Python 3 (ipykernel)",
   "language": "python",
   "name": "python3"
  },
  "language_info": {
   "codemirror_mode": {
    "name": "ipython",
    "version": 3
   },
   "file_extension": ".py",
   "mimetype": "text/x-python",
   "name": "python",
   "nbconvert_exporter": "python",
   "pygments_lexer": "ipython3",
   "version": "3.11.4"
  }
 },
 "nbformat": 4,
 "nbformat_minor": 4
}
