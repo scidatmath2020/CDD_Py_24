{
 "cells": [
  {
   "cell_type": "markdown",
   "id": "055b7cbb",
   "metadata": {},
   "source": [
    "![imagenes](logo.png)"
   ]
  },
  {
   "cell_type": "code",
   "execution_count": 1,
   "id": "3fb07b1d",
   "metadata": {},
   "outputs": [],
   "source": [
    "import pandas as pd\n",
    "import numpy as np\n",
    "from siuba import *\n",
    "from siuba.dply.vector import *\n",
    "from plotnine import *\n",
    "import os\n",
    "\n",
    "pd.set_option('display.max_columns', None)\n",
    "pd.set_option('display.max_rows', None)"
   ]
  },
  {
   "cell_type": "code",
   "execution_count": 2,
   "id": "58abe51a",
   "metadata": {},
   "outputs": [],
   "source": [
    "vuelos = pd.read_csv(\"C:\\\\Users\\\\Usuario\\\\Documents\\\\scidata\\\\24_cdd_py\\\\practicas\\\\aerolineas\\\\flights.csv\")"
   ]
  },
  {
   "cell_type": "markdown",
   "id": "00aeda21",
   "metadata": {},
   "source": [
    "## Ejercicio 1: Análisis de Eficiencia en Tiempos de Vuelo\n",
    "\n",
    "Una aerolínea está interesada en analizar la eficiencia de sus vuelos en términos de tiempo en el aire (air_time). Quieren entender cómo se distribuyen los tiempos de vuelo para optimizar las rutas y reducir el consumo de combustible.\n",
    "\n",
    "Visualiza la distribución de los tiempos de vuelo de todos los vuelos que salieron de Nueva York en 2013."
   ]
  },
  {
   "cell_type": "markdown",
   "id": "964eee77",
   "metadata": {},
   "source": [
    "## Ejercicio 2: Identificación de Retrasos Críticos en la Salida de Vuelos\n",
    "\n",
    "El departamento de operaciones de un aeropuerto desea identificar los períodos del día en los que ocurren más retrasos en la salida de los vuelos (dep_delay). Este análisis es fundamental para mejorar la gestión del tráfico aéreo y minimizar los retrasos.\n",
    "\n",
    "Visualiza la distribución de los retrasos en la salida de los vuelos para identificar cuándo ocurren con mayor frecuencia."
   ]
  },
  {
   "cell_type": "markdown",
   "id": "5bb907fe",
   "metadata": {},
   "source": [
    "## Ejercicio 3: Evaluación de la Cobertura de Rutas de Vuelo\n",
    "\n",
    "Un analista de rutas de vuelo quiere evaluar qué tan lejos viajan los vuelos desde Nueva York. Este análisis permitirá a la aerolínea optimizar la asignación de aviones según las distancias recorridas.\n",
    "\n",
    "Visualiza la distribución de la distancia recorrida por los vuelos."
   ]
  }
 ],
 "metadata": {
  "kernelspec": {
   "display_name": "Python 3 (ipykernel)",
   "language": "python",
   "name": "python3"
  },
  "language_info": {
   "codemirror_mode": {
    "name": "ipython",
    "version": 3
   },
   "file_extension": ".py",
   "mimetype": "text/x-python",
   "name": "python",
   "nbconvert_exporter": "python",
   "pygments_lexer": "ipython3",
   "version": "3.11.4"
  }
 },
 "nbformat": 4,
 "nbformat_minor": 5
}
