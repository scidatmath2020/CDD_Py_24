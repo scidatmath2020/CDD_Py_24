{
 "cells": [
  {
   "cell_type": "markdown",
   "id": "a136b55d",
   "metadata": {},
   "source": [
    "<img src=\"logo.png\">"
   ]
  },
  {
   "cell_type": "markdown",
   "id": "6add716b",
   "metadata": {},
   "source": [
    "Utilizando la tabla **ITER2020-Puebla.csv** que se encuentra en la sección de datos en nuestro repositorio, responde lo siguiente:"
   ]
  },
  {
   "cell_type": "markdown",
   "id": "a732520f",
   "metadata": {},
   "source": [
    "## Seleccionar las columnas relevantes\n",
    "Columnas: municipio, nombre del municipio, localidad, nombre de la localidad, población total, viviendas totales\n",
    "\n",
    "## Filtrar los datos por un municipio específico\n",
    "Por ejemplo, Atlixco\n",
    "\n",
    "## Agrupar los datos por municipio y calcular la población en cada uno\n",
    "\n",
    "## Ordenar los municipios por población total\n",
    "\n",
    "## Calcular la proporción de la población total por municipio\n",
    "\n",
    "## Filtrar municipios con más de 50,000 habitantes\n",
    "\n",
    "## Crear una nueva columna con la densidad poblacional (población / total de viviendas)\n",
    "\n",
    "## Agrupar por municipio y calcular la densidad promedio\n",
    "\n",
    "## Filtrar por municipios con una densidad mayor que el promedio estatal\n",
    "\n",
    "## Contar el número de localidades por municipio\n",
    "\n",
    "## Calcular el promedio de viviendas por municipio\n",
    "\n",
    "## Identificar la localidad con mayor densidad en la entidad\n",
    "\n",
    "## Crear un resumen de población total y promedio de viviendas por municipio\n"
   ]
  }
 ],
 "metadata": {
  "kernelspec": {
   "display_name": "Python 3 (ipykernel)",
   "language": "python",
   "name": "python3"
  },
  "language_info": {
   "codemirror_mode": {
    "name": "ipython",
    "version": 3
   },
   "file_extension": ".py",
   "mimetype": "text/x-python",
   "name": "python",
   "nbconvert_exporter": "python",
   "pygments_lexer": "ipython3",
   "version": "3.11.4"
  }
 },
 "nbformat": 4,
 "nbformat_minor": 5
}
