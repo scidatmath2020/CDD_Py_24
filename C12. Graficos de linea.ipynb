{
 "cells": [
  {
   "cell_type": "markdown",
   "id": "9b3c8602",
   "metadata": {},
   "source": [
    "![imagenes](logo.png)"
   ]
  },
  {
   "cell_type": "code",
   "execution_count": null,
   "id": "e8d52cfc",
   "metadata": {},
   "outputs": [],
   "source": [
    "import pandas as pd\n",
    "import numpy as np\n",
    "from siuba import *\n",
    "from siuba.dply.vector import *\n",
    "from plotnine import *\n",
    "import os\n",
    "\n",
    "pd.set_option('display.max_columns', None)\n",
    "pd.set_option('display.max_rows', None)"
   ]
  },
  {
   "cell_type": "code",
   "execution_count": null,
   "id": "459eea15",
   "metadata": {},
   "outputs": [],
   "source": [
    "vuelos = pd.read_csv(\"C:\\\\Users\\\\Usuario\\\\Documents\\\\scidata\\\\24_cdd_py\\\\practicas\\\\aerolineas\\\\flights.csv\")\n",
    "clima = pd.read_csv(\"C:\\\\Users\\\\Usuario\\\\Documents\\\\scidata\\\\24_cdd_py\\\\practicas\\\\aerolineas\\\\weather.csv\")\n",
    "gapminder = pd.read_csv(\"C:\\\\Users\\\\Usuario\\\\Documents\\\\scidata\\\\24_cdd_py\\\\practicas\\\\gapminder\\\\gapminder.csv\")\n",
    "\n",
    "covid_20 = pd.read_csv(\"C:\\\\Users\\\\Usuario\\\\Documents\\\\scidata\\\\24_cdd_py\\\\practicas\\\\covid_19\\\\covid_2020.csv\")\n",
    "covid_21 = pd.read_csv(\"C:\\\\Users\\\\Usuario\\\\Documents\\\\scidata\\\\24_cdd_py\\\\practicas\\\\covid_19\\\\covid_2021.csv\")\n",
    "covid_22 = pd.read_csv(\"C:\\\\Users\\\\Usuario\\\\Documents\\\\scidata\\\\24_cdd_py\\\\practicas\\\\covid_19\\\\covid_2022.csv\")\n",
    "covid_23 = pd.read_csv(\"C:\\\\Users\\\\Usuario\\\\Documents\\\\scidata\\\\24_cdd_py\\\\practicas\\\\covid_19\\\\covid_2023.csv\")"
   ]
  },
  {
   "cell_type": "markdown",
   "id": "3bda03c2",
   "metadata": {},
   "source": [
    "## Ejercicio 1.\n",
    "\n",
    "Usando los datos de vuelos (flights), agrupa por mes y calcula el número total de vuelos retrasados. Crea un gráfico de línea que muestre la tendencia de los vuelos retrasados por mes.\n",
    "\n",
    "**Extra**\n",
    "\n",
    "- Separa por aeropuerto de origen "
   ]
  },
  {
   "cell_type": "markdown",
   "id": "78c75ce8",
   "metadata": {},
   "source": [
    "## Ejercicio 2\n",
    "\n",
    "Filtra los datos para el aeropuerto de JFK y crea un gráfico de línea que muestre la temperatura máxima diaria (temp) a lo largo del tiempo.\n",
    "\n",
    "**Extra**\n",
    "\n",
    "- Colorea por mes\n",
    "- Haz lo mismo pero por temperatura promedio diaria"
   ]
  },
  {
   "cell_type": "markdown",
   "id": "ef2efc67",
   "metadata": {},
   "source": [
    "## Ejercicio 3\n",
    "\n",
    "Usa los datos de Gapminder para comparar la evolución de la población de México y Estados Unidos a lo largo del tiempo."
   ]
  },
  {
   "cell_type": "markdown",
   "id": "5e317bb5",
   "metadata": {},
   "source": [
    "## Ejercicio 4\n",
    "\n",
    "Usa los datos de Gapminder para comparar la evolución del PIB per cápita de Japón y China.\n",
    "\n",
    "**Extra**\n",
    "\n",
    "- Añade la evolución en el PIB anual promedio para toda América y compara"
   ]
  },
  {
   "cell_type": "markdown",
   "id": "eaf28dbf",
   "metadata": {},
   "source": [
    "## Ejercicio 5\n",
    "\n",
    "Usa los datos de vuelos (flights) para agrupar por mes y calcular el número de vuelos cancelados (is.na(dep_time)). Crea un gráfico de línea mostrando la tendencia de vuelos cancelados por mes."
   ]
  },
  {
   "cell_type": "markdown",
   "id": "4a870a7a",
   "metadata": {},
   "source": [
    "## Ejercicio 6\n",
    "\n",
    "Usa los datos meteorológicos para calcular la temperatura promedio por mes y año en el aeropuerto de LGA y crea un gráfico de línea."
   ]
  },
  {
   "cell_type": "markdown",
   "id": "d40a6b6c",
   "metadata": {},
   "source": [
    "## Ejercicio 7\n",
    "\n",
    "Presenta las gráficas de contagios diarios de covid; defunciones diarias de covid y defunciones acumuladas diarias de covid.\n",
    "\n",
    "**Extra**\n",
    "\n",
    "- Ilumina por año"
   ]
  }
 ],
 "metadata": {
  "kernelspec": {
   "display_name": "Python 3 (ipykernel)",
   "language": "python",
   "name": "python3"
  },
  "language_info": {
   "codemirror_mode": {
    "name": "ipython",
    "version": 3
   },
   "file_extension": ".py",
   "mimetype": "text/x-python",
   "name": "python",
   "nbconvert_exporter": "python",
   "pygments_lexer": "ipython3",
   "version": "3.11.4"
  }
 },
 "nbformat": 4,
 "nbformat_minor": 5
}
